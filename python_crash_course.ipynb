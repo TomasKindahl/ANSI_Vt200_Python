{
  "nbformat": 4,
  "nbformat_minor": 0,
  "metadata": {
    "colab": {
      "provenance": [],
      "authorship_tag": "ABX9TyPVqmFS/Zcn5X0vUMBUraQq",
      "include_colab_link": true
    },
    "kernelspec": {
      "name": "python3",
      "display_name": "Python 3"
    },
    "language_info": {
      "name": "python"
    }
  },
  "cells": [
    {
      "cell_type": "markdown",
      "metadata": {
        "id": "view-in-github",
        "colab_type": "text"
      },
      "source": [
        "<a href=\"https://colab.research.google.com/github/TomasKindahl/ANSI_Vt200_Python/blob/main/python_crash_course.ipynb\" target=\"_parent\"><img src=\"https://colab.research.google.com/assets/colab-badge.svg\" alt=\"Open In Colab\"/></a>"
      ]
    },
    {
      "cell_type": "markdown",
      "source": [
        "127.0.1"
      ],
      "metadata": {
        "id": "Bh79qW8uQIZe"
      }
    },
    {
      "cell_type": "code",
      "source": [
        "print(\"Hello, World!\")"
      ],
      "metadata": {
        "colab": {
          "base_uri": "https://localhost:8080/"
        },
        "id": "3mO0tOyZJDZE",
        "outputId": "46b679e8-46c9-4de5-c443-b44c19e37fd6"
      },
      "execution_count": null,
      "outputs": [
        {
          "output_type": "stream",
          "name": "stdout",
          "text": [
            "Hello, World!\n"
          ]
        }
      ]
    },
    {
      "cell_type": "markdown",
      "source": [
        "127.1.1"
      ],
      "metadata": {
        "id": "Qgk4qPGuY_pZ"
      }
    },
    {
      "cell_type": "code",
      "source": [
        "A = 12\n",
        "print(A)\n",
        "print(type(A))"
      ],
      "metadata": {
        "colab": {
          "base_uri": "https://localhost:8080/"
        },
        "id": "amZWDWe7ZCcm",
        "outputId": "65aadd08-8e72-442f-d87b-e75edb81ef77"
      },
      "execution_count": null,
      "outputs": [
        {
          "output_type": "stream",
          "name": "stdout",
          "text": [
            "12\n",
            "<class 'int'>\n"
          ]
        }
      ]
    },
    {
      "cell_type": "markdown",
      "source": [
        "127.1.2"
      ],
      "metadata": {
        "id": "Pab1pv0uZzo5"
      }
    },
    {
      "cell_type": "code",
      "source": [
        "B = 12\n",
        "print(type(B))\n",
        "type(A) == type(B)"
      ],
      "metadata": {
        "colab": {
          "base_uri": "https://localhost:8080/"
        },
        "id": "nTJ3TXDzZ1qm",
        "outputId": "2eeff015-1dd2-4fa0-e815-d840fb635962"
      },
      "execution_count": null,
      "outputs": [
        {
          "output_type": "stream",
          "name": "stdout",
          "text": [
            "<class 'int'>\n"
          ]
        },
        {
          "output_type": "execute_result",
          "data": {
            "text/plain": [
              "True"
            ]
          },
          "metadata": {},
          "execution_count": 6
        }
      ]
    },
    {
      "cell_type": "markdown",
      "source": [
        "127.1.3"
      ],
      "metadata": {
        "id": "1IeJE76paKE4"
      }
    },
    {
      "cell_type": "code",
      "source": [
        "B = \"abrakadabra\"\n",
        "print(type(B))\n",
        "type(A) == type(B)"
      ],
      "metadata": {
        "colab": {
          "base_uri": "https://localhost:8080/"
        },
        "id": "N8LcE7OfaL2p",
        "outputId": "5c7880fe-0a3e-468e-d01a-7824a69db3f6"
      },
      "execution_count": null,
      "outputs": [
        {
          "output_type": "stream",
          "name": "stdout",
          "text": [
            "<class 'str'>\n"
          ]
        },
        {
          "output_type": "execute_result",
          "data": {
            "text/plain": [
              "False"
            ]
          },
          "metadata": {},
          "execution_count": 7
        }
      ]
    },
    {
      "cell_type": "markdown",
      "source": [
        "127.1.4"
      ],
      "metadata": {
        "id": "QSDxhF1sb32C"
      }
    },
    {
      "cell_type": "code",
      "source": [
        "print(True, False)    # Booleska värden (observera initial stor bokstav)\n",
        "print(13903920129039023901923049204910129940590) # Python har långa heltal\n",
        "print(1_592_65)       # Heltal med _ inlagt där det ser snyggt ut\n",
        "print(3.141_592_65)   # Flyttal med _ inlagt där det ser snyggt ut\n",
        "print(\"hex:\", 0xFFEF) # Hexadecimalnotation\n",
        "print(hex(65519))     # Skriv ut hexadecimalt genom att göra om till sträng!\n",
        "print(\"okt\", 0o723)   # Oktaltal\n",
        "print(oct(467))       # Skriv ut oktalt genom att göra om till sträng!\n",
        "print(\"bin\", 0b1010)  # Binärtal\n",
        "print(bin(467))       # Skriv ut binärt genom att göra om till sträng!"
      ],
      "metadata": {
        "colab": {
          "base_uri": "https://localhost:8080/"
        },
        "id": "8B6jBWgDb7Kx",
        "outputId": "7a8f1e69-5227-40ab-cbca-3f85814c68ac"
      },
      "execution_count": null,
      "outputs": [
        {
          "output_type": "stream",
          "name": "stdout",
          "text": [
            "True False\n",
            "13903920129039023901923049204910129940590\n",
            "159265\n",
            "3.14159265\n",
            "hex: 65519\n",
            "0xffef\n",
            "okt 467\n",
            "0o723\n",
            "bin 10\n",
            "0b111010011\n"
          ]
        }
      ]
    },
    {
      "cell_type": "markdown",
      "source": [
        "127.1.5"
      ],
      "metadata": {
        "id": "TugAYuIGldcY"
      }
    },
    {
      "cell_type": "code",
      "source": [
        "A = 3\n",
        "print(A*3 + 4)\n",
        "print(A % 2)\n",
        "print(4 << 1)\n",
        "print(2 << 7)\n",
        "print(3**3)     # Exponent!"
      ],
      "metadata": {
        "colab": {
          "base_uri": "https://localhost:8080/"
        },
        "id": "CQ1LeLKKlfho",
        "outputId": "68548392-96c1-4bb2-994b-4abd26636eeb"
      },
      "execution_count": null,
      "outputs": [
        {
          "output_type": "stream",
          "name": "stdout",
          "text": [
            "13\n",
            "1\n",
            "8\n",
            "256\n",
            "27\n"
          ]
        }
      ]
    },
    {
      "cell_type": "markdown",
      "source": [
        "127.1.6"
      ],
      "metadata": {
        "id": "rqH8iLjCdX-o"
      }
    },
    {
      "cell_type": "code",
      "source": [
        "print(\"Hello, World!\")\n",
        "print('Hej Sverige!')"
      ],
      "metadata": {
        "colab": {
          "base_uri": "https://localhost:8080/"
        },
        "id": "ZBT7mjP_dZrf",
        "outputId": "9c754abc-de3a-4f67-ac72-7293e743a5ec"
      },
      "execution_count": null,
      "outputs": [
        {
          "output_type": "stream",
          "name": "stdout",
          "text": [
            "Hello, World!\n",
            "Hej Sverige!\n"
          ]
        }
      ]
    },
    {
      "cell_type": "markdown",
      "source": [
        "127.1.7"
      ],
      "metadata": {
        "id": "YxPY8TLUeAkR"
      }
    },
    {
      "cell_type": "code",
      "source": [
        "print('Han sade: \"Simsalabim!\"')\n",
        "print(\"'Ord' översätts med 'sanat'\")\n",
        "print(\"Hon sade: \\\"Hokuspokus!\\\"\")"
      ],
      "metadata": {
        "colab": {
          "base_uri": "https://localhost:8080/"
        },
        "id": "rAjfYGmLeCxo",
        "outputId": "70bc0f79-a063-4b5d-f5cf-6e4b76d13028"
      },
      "execution_count": null,
      "outputs": [
        {
          "output_type": "stream",
          "name": "stdout",
          "text": [
            "Han sade: \"Simsalabim!\"\n",
            "'Ord' översätts med 'sanat'\n",
            "Hon sade: \"Hokuspokus!\"\n"
          ]
        }
      ]
    },
    {
      "cell_type": "markdown",
      "source": [
        "127.1.8"
      ],
      "metadata": {
        "id": "mBqe050qmR9w"
      }
    },
    {
      "cell_type": "code",
      "source": [
        "print(\"ha\"*10)\n",
        "print(\"ha\"+\"!\")"
      ],
      "metadata": {
        "colab": {
          "base_uri": "https://localhost:8080/"
        },
        "id": "YJbTZGQGmTjC",
        "outputId": "9617c93b-fc0b-4b56-d17e-83f11fb8559d"
      },
      "execution_count": null,
      "outputs": [
        {
          "output_type": "stream",
          "name": "stdout",
          "text": [
            "hahahahahahahahahaha\n",
            "ha!\n"
          ]
        }
      ]
    },
    {
      "cell_type": "markdown",
      "source": [
        "127.1.9"
      ],
      "metadata": {
        "id": "CppSzzGZnDAS"
      }
    },
    {
      "cell_type": "code",
      "source": [
        "print(int(\"23\"))\n",
        "print(float(\"3.4\"))\n",
        "print(str(12.4))"
      ],
      "metadata": {
        "colab": {
          "base_uri": "https://localhost:8080/"
        },
        "id": "8qa9H_-RnE-0",
        "outputId": "ba6ab09d-1cb9-4945-e14b-c26529595bc1"
      },
      "execution_count": null,
      "outputs": [
        {
          "output_type": "stream",
          "name": "stdout",
          "text": [
            "23\n",
            "3.4\n",
            "12.4\n"
          ]
        }
      ]
    },
    {
      "cell_type": "markdown",
      "source": [
        "127.2.1"
      ],
      "metadata": {
        "id": "CSu23UNmnPIy"
      }
    },
    {
      "cell_type": "code",
      "source": [
        "L = [1, 2, 3, 4, 5]   # Skapa lista\n",
        "print(L)              # Skriv ut\n",
        "print(type(L))        # Typ?\n",
        "print(L[2])           # Indexering\n",
        "L[2] = 66             # Tilldela index\n",
        "print(L)              # Skriv ut igen\n",
        "print(L[-1])          # Sista elementet med minus-index!\n",
        "print(\"len\", len(L))  # len = Längd"
      ],
      "metadata": {
        "colab": {
          "base_uri": "https://localhost:8080/"
        },
        "id": "gfsbWH2LnRqT",
        "outputId": "d548d5a5-a1d2-42c1-c8dc-b397fc437b9a"
      },
      "execution_count": null,
      "outputs": [
        {
          "output_type": "stream",
          "name": "stdout",
          "text": [
            "[1, 2, 3, 4, 5]\n",
            "<class 'list'>\n",
            "3\n",
            "[1, 2, 66, 4, 5]\n",
            "5\n",
            "len 5\n"
          ]
        }
      ]
    },
    {
      "cell_type": "markdown",
      "source": [
        "127.2.2"
      ],
      "metadata": {
        "id": "Hcuc7k-Aolq1"
      }
    },
    {
      "cell_type": "code",
      "source": [
        "S = \"hokus\"           # Skapa lista\n",
        "print(S)              # Skriv ut\n",
        "print(type(S))        # Typ?\n",
        "print(S[2])           # Indexering\n",
        "print(type(S[2]))     # Character-typ?\n",
        "print(S[-1])          # Sista elementet med minus-index!\n",
        "print(\"len\", len(S))  # len = Längd"
      ],
      "metadata": {
        "colab": {
          "base_uri": "https://localhost:8080/"
        },
        "id": "ZJDo19PYonSd",
        "outputId": "ca8c8182-563b-448e-ecc4-a25fd4fa5688"
      },
      "execution_count": null,
      "outputs": [
        {
          "output_type": "stream",
          "name": "stdout",
          "text": [
            "hokus\n",
            "<class 'str'>\n",
            "k\n",
            "<class 'str'>\n",
            "s\n",
            "len 5\n"
          ]
        }
      ]
    },
    {
      "cell_type": "markdown",
      "source": [
        "127.2.3"
      ],
      "metadata": {
        "id": "BtnQB5ogpdYI"
      }
    },
    {
      "cell_type": "code",
      "source": [
        "WL = {'sol': 'sun', 'måne': 'moon', 'stjärna': 'star'} # \"Ordlista\"\n",
        "print(WL)               # Skriv ut\n",
        "print(type(WL))         # Typ?\n",
        "print(WL['sol'])        # Indexering\n",
        "print(\"len\", len(WL))   # len = Längd\n",
        "print(WL.items())       # Skapar en uppräkningstyp\n",
        "print(list(WL.items())) # Gör om till lista"
      ],
      "metadata": {
        "colab": {
          "base_uri": "https://localhost:8080/"
        },
        "id": "ofOfwDV9pfVY",
        "outputId": "e751e4eb-b442-4948-d1ed-088a4dad4f76"
      },
      "execution_count": null,
      "outputs": [
        {
          "output_type": "stream",
          "name": "stdout",
          "text": [
            "{'sol': 'sun', 'måne': 'moon', 'stjärna': 'star'}\n",
            "<class 'dict'>\n",
            "sun\n",
            "len 3\n",
            "dict_items([('sol', 'sun'), ('måne', 'moon'), ('stjärna', 'star')])\n",
            "[('sol', 'sun'), ('måne', 'moon'), ('stjärna', 'star')]\n"
          ]
        }
      ]
    },
    {
      "cell_type": "markdown",
      "source": [
        "127.2.4"
      ],
      "metadata": {
        "id": "wWk_BGzPrv_G"
      }
    },
    {
      "cell_type": "code",
      "source": [
        "for i in L:\n",
        "    print(i)\n",
        "for c in S:\n",
        "    print(c)\n",
        "for key in WL:\n",
        "    print(key)"
      ],
      "metadata": {
        "colab": {
          "base_uri": "https://localhost:8080/"
        },
        "id": "kb8DAIMDrihI",
        "outputId": "0220dd36-02e6-42a8-e646-f88c8e3a0936"
      },
      "execution_count": null,
      "outputs": [
        {
          "output_type": "stream",
          "name": "stdout",
          "text": [
            "1\n",
            "2\n",
            "66\n",
            "4\n",
            "5\n",
            "h\n",
            "o\n",
            "k\n",
            "u\n",
            "s\n",
            "sol\n",
            "måne\n",
            "stjärna\n"
          ]
        }
      ]
    },
    {
      "cell_type": "markdown",
      "source": [
        "127.2.5"
      ],
      "metadata": {
        "id": "kZs73_PHtOMt"
      }
    },
    {
      "cell_type": "code",
      "source": [
        "for key in WL:\n",
        "    print(key, WL[key])"
      ],
      "metadata": {
        "colab": {
          "base_uri": "https://localhost:8080/"
        },
        "id": "rSD8X_mmtQJe",
        "outputId": "ed40a8bf-5605-426a-a07b-e3c40864e219"
      },
      "execution_count": null,
      "outputs": [
        {
          "output_type": "stream",
          "name": "stdout",
          "text": [
            "sol sun\n",
            "måne moon\n",
            "stjärna star\n"
          ]
        }
      ]
    },
    {
      "cell_type": "markdown",
      "source": [
        "127.2.6"
      ],
      "metadata": {
        "id": "-KW0pZu7tg8M"
      }
    },
    {
      "cell_type": "code",
      "source": [
        "for key, value in WL.items():\n",
        "    print(key, value)"
      ],
      "metadata": {
        "colab": {
          "base_uri": "https://localhost:8080/"
        },
        "id": "_SBO1O86tjNS",
        "outputId": "c81bfebd-439d-4324-af72-38482f0a1c88"
      },
      "execution_count": null,
      "outputs": [
        {
          "output_type": "stream",
          "name": "stdout",
          "text": [
            "sol sun\n",
            "måne moon\n",
            "stjärna star\n"
          ]
        }
      ]
    },
    {
      "cell_type": "markdown",
      "source": [
        "127.2.7"
      ],
      "metadata": {
        "id": "dFYBy-LIt_FW"
      }
    },
    {
      "cell_type": "code",
      "source": [
        "ett, två = 1, 2\n",
        "print(ett, två)\n",
        "ett, två = två, ett\n",
        "print(ett, två)"
      ],
      "metadata": {
        "id": "U89-RNqquA5P",
        "outputId": "b966936b-1cc4-446b-89f0-e9ba4bf8081c",
        "colab": {
          "base_uri": "https://localhost:8080/"
        }
      },
      "execution_count": null,
      "outputs": [
        {
          "output_type": "stream",
          "name": "stdout",
          "text": [
            "1 2\n",
            "2 1\n"
          ]
        }
      ]
    },
    {
      "cell_type": "markdown",
      "source": [
        "127.3.1"
      ],
      "metadata": {
        "id": "IzNPFhA_vcgd"
      }
    },
    {
      "cell_type": "code",
      "source": [
        "def plus(x, y):\n",
        "    return x+y\n",
        "print(plus(2, 3))"
      ],
      "metadata": {
        "colab": {
          "base_uri": "https://localhost:8080/"
        },
        "id": "m_ZhKz4LveVn",
        "outputId": "116cce3c-12e7-4494-9e15-30f7e4bd6f94"
      },
      "execution_count": null,
      "outputs": [
        {
          "output_type": "stream",
          "name": "stdout",
          "text": [
            "5\n"
          ]
        }
      ]
    },
    {
      "cell_type": "markdown",
      "source": [
        "127.3.2"
      ],
      "metadata": {
        "id": "zOCohAowynrf"
      }
    },
    {
      "cell_type": "code",
      "source": [
        "def något():\n",
        "    if 2 == 2:\n",
        "        a = 33\n",
        "    print(a)\n",
        "något()"
      ],
      "metadata": {
        "colab": {
          "base_uri": "https://localhost:8080/"
        },
        "id": "NXGDQZVFypKz",
        "outputId": "883d9e8e-de4d-4fcd-bd54-ae0246330fed"
      },
      "execution_count": null,
      "outputs": [
        {
          "output_type": "stream",
          "name": "stdout",
          "text": [
            "33\n"
          ]
        }
      ]
    },
    {
      "cell_type": "markdown",
      "source": [
        "127.3.3"
      ],
      "metadata": {
        "id": "Mi7jt-rH0YlP"
      }
    },
    {
      "cell_type": "code",
      "source": [
        "def main():\n",
        "    for i in range(10):\n",
        "        print(i, i*i)\n",
        "main()"
      ],
      "metadata": {
        "colab": {
          "base_uri": "https://localhost:8080/"
        },
        "id": "l4o4gdXY0ao9",
        "outputId": "af5e8931-44d9-4cca-db79-61a15243cc41"
      },
      "execution_count": null,
      "outputs": [
        {
          "output_type": "stream",
          "name": "stdout",
          "text": [
            "0 0\n",
            "1 1\n",
            "2 4\n",
            "3 9\n",
            "4 16\n",
            "5 25\n",
            "6 36\n",
            "7 49\n",
            "8 64\n",
            "9 81\n"
          ]
        }
      ]
    },
    {
      "cell_type": "markdown",
      "source": [
        "127.3.4"
      ],
      "metadata": {
        "id": "rMBiEXn_1Bf8"
      }
    },
    {
      "cell_type": "code",
      "source": [
        "def main():\n",
        "    for i in range(10):\n",
        "        print(i, i*i)\n",
        "if __name__ == '__main__':\n",
        "    main()"
      ],
      "metadata": {
        "colab": {
          "base_uri": "https://localhost:8080/"
        },
        "id": "HCurxiue0820",
        "outputId": "f295e344-7635-493d-b6fa-84ff20f2ba3e"
      },
      "execution_count": null,
      "outputs": [
        {
          "output_type": "stream",
          "name": "stdout",
          "text": [
            "0 0\n",
            "1 1\n",
            "2 4\n",
            "3 9\n",
            "4 16\n",
            "5 25\n",
            "6 36\n",
            "7 49\n",
            "8 64\n",
            "9 81\n"
          ]
        }
      ]
    },
    {
      "cell_type": "markdown",
      "source": [
        "127.3.5"
      ],
      "metadata": {
        "id": "eEaFIlgq219R"
      }
    },
    {
      "cell_type": "code",
      "source": [
        "a = 12\n",
        "if a == 12:\n",
        "    print(\"tolv\")\n",
        "b = 33\n",
        "\n",
        "if b == 34:\n",
        "    print(\"trettiotre\")\n",
        "else:\n",
        "    print(\"inte trettiotre\")"
      ],
      "metadata": {
        "colab": {
          "base_uri": "https://localhost:8080/"
        },
        "id": "_U1ElLGP13IO",
        "outputId": "279c8be1-ede3-40c9-c245-2ad9f2417497"
      },
      "execution_count": null,
      "outputs": [
        {
          "output_type": "stream",
          "name": "stdout",
          "text": [
            "tolv\n",
            "inte trettiotre\n"
          ]
        }
      ]
    },
    {
      "cell_type": "markdown",
      "source": [
        "127.3.6"
      ],
      "metadata": {
        "id": "9oKjWyQn3w31"
      }
    },
    {
      "cell_type": "code",
      "source": [
        "a = 1\n",
        "if a == 1:\n",
        "    print(\"ett\")\n",
        "elif a == 2:\n",
        "    print(\"två\")\n",
        "elif a == 3:\n",
        "    print(\"tre\")\n",
        "else:\n",
        "    print(\"många\")"
      ],
      "metadata": {
        "colab": {
          "base_uri": "https://localhost:8080/"
        },
        "id": "Ue1hW0xY3yhh",
        "outputId": "b1f252c9-b927-4619-9688-4ae013755643"
      },
      "execution_count": null,
      "outputs": [
        {
          "output_type": "stream",
          "name": "stdout",
          "text": [
            "ett\n"
          ]
        }
      ]
    },
    {
      "cell_type": "markdown",
      "source": [
        "127.3.7"
      ],
      "metadata": {
        "id": "pmnMe9yV5Na6"
      }
    },
    {
      "cell_type": "code",
      "source": [
        "sum = 0\n",
        "for i in range(5):         # från 0 till och med 4\n",
        "    sum += i\n",
        "print(sum)\n",
        "\n",
        "sum = 0\n",
        "for i in range(1, 6):      # från 1 till och med 5\n",
        "    sum += i\n",
        "print(sum)\n",
        "\n",
        "sum = 0\n",
        "for i in range(1, 5, 2):   # från 0 till och med 4, steg 2\n",
        "    sum += i\n",
        "print(sum)"
      ],
      "metadata": {
        "colab": {
          "base_uri": "https://localhost:8080/"
        },
        "id": "v0hfGkna5K72",
        "outputId": "6c2e3d75-d0a0-4896-804e-4aa73e634099"
      },
      "execution_count": null,
      "outputs": [
        {
          "output_type": "stream",
          "name": "stdout",
          "text": [
            "10\n",
            "15\n",
            "4\n"
          ]
        }
      ]
    },
    {
      "cell_type": "markdown",
      "source": [
        "127.3.8"
      ],
      "metadata": {
        "id": "_ADmJOde6JzQ"
      }
    },
    {
      "cell_type": "code",
      "source": [
        "sum = 0\n",
        "for i in [1, 2, 66, 4, 5]:\n",
        "    sum += i\n",
        "print(sum)"
      ],
      "metadata": {
        "id": "9L56JE2B6Lo8",
        "outputId": "7e056aee-a31e-4b37-e0f3-24c3ab4b9e92",
        "colab": {
          "base_uri": "https://localhost:8080/"
        }
      },
      "execution_count": null,
      "outputs": [
        {
          "output_type": "stream",
          "name": "stdout",
          "text": [
            "78\n"
          ]
        }
      ]
    },
    {
      "cell_type": "markdown",
      "source": [
        "127.4.1"
      ],
      "metadata": {
        "id": "qptRwp-18O8g"
      }
    },
    {
      "cell_type": "code",
      "source": [
        "import math\n",
        "print(math.sqrt(2))"
      ],
      "metadata": {
        "colab": {
          "base_uri": "https://localhost:8080/"
        },
        "id": "tw-SdX0J8QQ3",
        "outputId": "9b4369e7-019d-4746-a46b-f27f8930e7e5"
      },
      "execution_count": 62,
      "outputs": [
        {
          "output_type": "stream",
          "name": "stdout",
          "text": [
            "1.4142135623730951\n"
          ]
        }
      ]
    },
    {
      "cell_type": "markdown",
      "source": [
        "127.4.2"
      ],
      "metadata": {
        "id": "6IU7vtld8qbY"
      }
    },
    {
      "cell_type": "code",
      "source": [
        "import math as m\n",
        "print(m.sqrt(2))"
      ],
      "metadata": {
        "colab": {
          "base_uri": "https://localhost:8080/"
        },
        "id": "53PxFazU8SPP",
        "outputId": "3adee569-b0dd-4498-f0d0-127298aa2f80"
      },
      "execution_count": 63,
      "outputs": [
        {
          "output_type": "stream",
          "name": "stdout",
          "text": [
            "1.4142135623730951\n"
          ]
        }
      ]
    },
    {
      "cell_type": "markdown",
      "source": [
        "127.4.3"
      ],
      "metadata": {
        "id": "8PRQ1sfR9BO8"
      }
    },
    {
      "cell_type": "code",
      "source": [
        "from math import *\n",
        "print(sqrt(2))"
      ],
      "metadata": {
        "colab": {
          "base_uri": "https://localhost:8080/"
        },
        "id": "lDkeZenb9Dmj",
        "outputId": "60fad2a9-db85-4267-eac6-11b4e2f6df25"
      },
      "execution_count": 64,
      "outputs": [
        {
          "output_type": "stream",
          "name": "stdout",
          "text": [
            "1.4142135623730951\n"
          ]
        }
      ]
    },
    {
      "cell_type": "markdown",
      "source": [
        "127.4.4"
      ],
      "metadata": {
        "id": "vHBfUMgr9Rt6"
      }
    },
    {
      "cell_type": "code",
      "source": [
        "from math import sqrt\n",
        "print(sqrt(2))"
      ],
      "metadata": {
        "colab": {
          "base_uri": "https://localhost:8080/"
        },
        "id": "JBoej1219T-q",
        "outputId": "dd8d9993-8fc3-4e08-9de5-4691988a9614"
      },
      "execution_count": 65,
      "outputs": [
        {
          "output_type": "stream",
          "name": "stdout",
          "text": [
            "1.4142135623730951\n"
          ]
        }
      ]
    },
    {
      "cell_type": "markdown",
      "source": [
        "127.5.1"
      ],
      "metadata": {
        "id": "nI0E1JpOAKBo"
      }
    },
    {
      "cell_type": "code",
      "source": [
        "class Person():\n",
        "    def __init__(self, persname, surname):\n",
        "        self.persname = persname\n",
        "        self.surname = surname\n",
        "arne = Person('Arne', 'Svensson')\n",
        "print(arne)"
      ],
      "metadata": {
        "colab": {
          "base_uri": "https://localhost:8080/"
        },
        "id": "vPb19crOALQU",
        "outputId": "1a0d159a-a8ad-4033-c424-6085df6ae9e1"
      },
      "execution_count": 66,
      "outputs": [
        {
          "output_type": "stream",
          "name": "stdout",
          "text": [
            "<__main__.Person object at 0x7cbe7cbe93d0>\n"
          ]
        }
      ]
    },
    {
      "cell_type": "markdown",
      "source": [
        "127.5.2"
      ],
      "metadata": {
        "id": "ru2jjcBvDHTl"
      }
    },
    {
      "cell_type": "code",
      "source": [
        "class Person():\n",
        "    def __init__(self, persname, surname):\n",
        "        self.persname = persname\n",
        "        self.surname = surname\n",
        "    def __str__(self):\n",
        "        return \"<\" + self.persname + \" \" + self.surname + \">\"\n",
        "arne = Person('Arne', 'Svensson')\n",
        "print(arne)"
      ],
      "metadata": {
        "colab": {
          "base_uri": "https://localhost:8080/"
        },
        "id": "jkOpAdd2C0fL",
        "outputId": "44a33220-60c5-4468-c3f8-c6e57c457f7c"
      },
      "execution_count": 67,
      "outputs": [
        {
          "output_type": "stream",
          "name": "stdout",
          "text": [
            "<Arne Svensson>\n"
          ]
        }
      ]
    },
    {
      "cell_type": "markdown",
      "source": [
        "127.5.3"
      ],
      "metadata": {
        "id": "KhIZhOTlDee8"
      }
    },
    {
      "cell_type": "code",
      "source": [
        "class Person():\n",
        "    def __init__(self, persname, surname):\n",
        "        self.persname = persname\n",
        "        self.surname = surname\n",
        "    def addPhone(self, phone):\n",
        "        self.phone = phone\n",
        "    def getPhone(self):\n",
        "        return self.phone\n",
        "arne = Person('Arne', 'Svensson')\n",
        "arne.addPhone('070-1234567')\n",
        "print(arne.getPhone())"
      ],
      "metadata": {
        "id": "ISfQu_CVDf9d"
      },
      "execution_count": null,
      "outputs": []
    },
    {
      "cell_type": "markdown",
      "source": [
        "127.5.4"
      ],
      "metadata": {
        "id": "jECWrBOpEdIh"
      }
    },
    {
      "cell_type": "code",
      "source": [
        "arne.__dict__"
      ],
      "metadata": {
        "colab": {
          "base_uri": "https://localhost:8080/"
        },
        "id": "MoF4paz4Efzm",
        "outputId": "dddbd8ce-b166-4210-e6a1-e99165b3a591"
      },
      "execution_count": 68,
      "outputs": [
        {
          "output_type": "execute_result",
          "data": {
            "text/plain": [
              "{'persname': 'Arne', 'surname': 'Svensson'}"
            ]
          },
          "metadata": {},
          "execution_count": 68
        }
      ]
    }
  ]
}