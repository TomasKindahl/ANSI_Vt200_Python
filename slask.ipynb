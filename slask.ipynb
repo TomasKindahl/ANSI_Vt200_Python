{
  "nbformat": 4,
  "nbformat_minor": 0,
  "metadata": {
    "colab": {
      "provenance": [],
      "authorship_tag": "ABX9TyPlGwKy+SJVZJ/D6FO8DjpW",
      "include_colab_link": true
    },
    "kernelspec": {
      "name": "python3",
      "display_name": "Python 3"
    },
    "language_info": {
      "name": "python"
    }
  },
  "cells": [
    {
      "cell_type": "markdown",
      "metadata": {
        "id": "view-in-github",
        "colab_type": "text"
      },
      "source": [
        "<a href=\"https://colab.research.google.com/github/TomasKindahl/ANSI_Vt200_Python/blob/main/slask.ipynb\" target=\"_parent\"><img src=\"https://colab.research.google.com/assets/colab-badge.svg\" alt=\"Open In Colab\"/></a>"
      ]
    },
    {
      "cell_type": "markdown",
      "source": [
        "## Hello demo!\n",
        "Explanation here."
      ],
      "metadata": {
        "id": "0HAD_xjmJRhS"
      }
    },
    {
      "cell_type": "code",
      "execution_count": 1,
      "metadata": {
        "colab": {
          "base_uri": "https://localhost:8080/"
        },
        "id": "zSfnUxgKIy3N",
        "outputId": "0dc9d172-fb90-4437-ac1f-ddf0fe0f7bfc"
      },
      "outputs": [
        {
          "output_type": "stream",
          "name": "stdout",
          "text": [
            "Hello, World!\n"
          ]
        }
      ],
      "source": [
        "variable = \"Hello, World!\"\n",
        "print(variable)"
      ]
    },
    {
      "cell_type": "markdown",
      "source": [
        "Next."
      ],
      "metadata": {
        "id": "UCjKOOjeJp5f"
      }
    },
    {
      "cell_type": "code",
      "source": [
        "B = [1, 2, 4, 6, 88]\n",
        "print(B)"
      ],
      "metadata": {
        "colab": {
          "base_uri": "https://localhost:8080/"
        },
        "id": "avMlPsFhJthh",
        "outputId": "06832aa5-e503-4935-e293-ebd83255060a"
      },
      "execution_count": 2,
      "outputs": [
        {
          "output_type": "stream",
          "name": "stdout",
          "text": [
            "[1, 2, 4, 6, 88]\n"
          ]
        }
      ]
    }
  ]
}